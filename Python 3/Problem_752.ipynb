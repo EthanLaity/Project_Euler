{
 "cells": [
  {
   "cell_type": "markdown",
   "id": "c7d63b60-5217-4316-8ebe-05336a0abf1e",
   "metadata": {},
   "source": [
    "# [Problem 752](https://projecteuler.net/problem=752)"
   ]
  },
  {
   "cell_type": "markdown",
   "id": "301753f3-6ae5-428e-8ddc-6d81c865c516",
   "metadata": {},
   "source": [
    "> When $(1 + \\sqrt{7})$ is raised to an integral* power, $n$, we always get a number of the form $(a+b\\sqrt{7})$. <br>\n",
    "> We write $(1 + \\sqrt{7})^n = \\alpha(n)+\\beta(n)\\sqrt{7}$.\n",
    "> \n",
    "> For a given number $x$ we define $g(x)$ to be the smallest positive integer $n$ such that:\n",
    "> \n",
    "> <center> $\\alpha(n) \\equiv 1 \\pmod x$ <br>\n",
    "> $\\beta(n) \\equiv 0 \\pmod x$ </center>\n",
    "> <br>\n",
    "> and $g(x) = 0$ if there is no such value of $n$. For example, $g(3) = 0$, $g(5) = 12$.\n",
    "> \n",
    "> Further define\n",
    "> \n",
    "> <center> $G(N) = \\sum_{x=2}^{N} g(x)$ </center>\n",
    "> <br>\n",
    "> You are given $G(10^2) = 28891$ and $G(10^3) = 13131583$\n",
    "> \n",
    "> Find $G(10^6)$."
   ]
  },
  {
   "cell_type": "markdown",
   "id": "d6f17b5e-cac0-46be-a4a2-1ec86d71d845",
   "metadata": {},
   "source": [
    "\\* possible typo, integral or integer?"
   ]
  },
  {
   "cell_type": "code",
   "execution_count": 1,
   "id": "c7c07875-5e5a-4673-98fa-a0538dbbe09e",
   "metadata": {},
   "outputs": [
    {
     "name": "stdout",
     "output_type": "stream",
     "text": [
      "Requirement already satisfied: sympy in c:\\users\\ethan\\appdata\\local\\programs\\python\\python38-32\\lib\\site-packages (1.10.1)\n",
      "Requirement already satisfied: mpmath>=0.19 in c:\\users\\ethan\\appdata\\local\\programs\\python\\python38-32\\lib\\site-packages (from sympy) (1.2.1)\n"
     ]
    }
   ],
   "source": [
    "! pip install sympy"
   ]
  },
  {
   "cell_type": "code",
   "execution_count": 2,
   "id": "e71a0cf1-bd9b-49cf-9946-2c4dc2447d7f",
   "metadata": {},
   "outputs": [],
   "source": [
    "import sympy"
   ]
  },
  {
   "cell_type": "code",
   "execution_count": 3,
   "id": "bf6a36ff-d71b-4003-bd2f-9f271019f577",
   "metadata": {},
   "outputs": [
    {
     "data": {
      "text/latex": [
       "$\\displaystyle 2 \\sqrt{7} + 8$"
      ],
      "text/plain": [
       "2*sqrt(7) + 8"
      ]
     },
     "execution_count": 3,
     "metadata": {},
     "output_type": "execute_result"
    }
   ],
   "source": [
    "n = 2\n",
    "\n",
    "expanded = sympy.expand((1 + sympy.sqrt(7))**n)\n",
    "expanded"
   ]
  },
  {
   "cell_type": "code",
   "execution_count": 4,
   "id": "28c1f53d-9a50-48b8-bf15-e8552440d39e",
   "metadata": {},
   "outputs": [
    {
     "data": {
      "text/plain": [
       "sympy.core.add.Add"
      ]
     },
     "execution_count": 4,
     "metadata": {},
     "output_type": "execute_result"
    }
   ],
   "source": [
    "type(expanded)"
   ]
  },
  {
   "cell_type": "code",
   "execution_count": 5,
   "id": "e5c9ae57-147b-40db-a188-4939e9d15299",
   "metadata": {},
   "outputs": [
    {
     "ename": "SyntaxError",
     "evalue": "cannot assign to operator (<ipython-input-5-56d9b0589c96>, line 2)",
     "output_type": "error",
     "traceback": [
      "\u001b[1;36m  File \u001b[1;32m\"<ipython-input-5-56d9b0589c96>\"\u001b[1;36m, line \u001b[1;32m2\u001b[0m\n\u001b[1;33m    (a - 1) % x = 0\u001b[0m\n\u001b[1;37m    ^\u001b[0m\n\u001b[1;31mSyntaxError\u001b[0m\u001b[1;31m:\u001b[0m cannot assign to operator\n"
     ]
    }
   ],
   "source": [
    "# Minimise n above that still has this true:\n",
    "(a - 1) % x = 0\n",
    "b % x = 0"
   ]
  },
  {
   "cell_type": "code",
   "execution_count": null,
   "id": "a9af7af5-36d2-445b-a42f-3c86cc48c633",
   "metadata": {},
   "outputs": [],
   "source": [
    "# Test\n",
    "\n",
    "expandPower = sympy.expand((1 + sympy.sqrt(7))**2).as_two_terms()\n",
    "constant = expandPower[0]\n",
    "surdCoeff = expandPower[1]\n",
    "\n",
    "print(constant, surdCoeff)"
   ]
  },
  {
   "cell_type": "code",
   "execution_count": null,
   "id": "db806e9e-850f-4e68-8c77-e060104fe331",
   "metadata": {},
   "outputs": [
    {
     "name": "stdout",
     "output_type": "stream",
     "text": [
      "Current x value is 2\n"
     ]
    }
   ],
   "source": [
    "# Define user-defined exceptions\n",
    "class Error(Exception):\n",
    "    \"\"\"Base class for other exceptions\"\"\"\n",
    "    pass\n",
    "\n",
    "class ValueTooBigError(Error):\n",
    "    \"\"\"Raised when the input value is too small\"\"\"\n",
    "    pass\n",
    "\n",
    "def g(x):\n",
    "    try:\n",
    "        print(\"Current x value is {}\".format(x))\n",
    "        # Smallest n for which (a - 1) % x = 0 and b % x = 0 is true\n",
    "        cont = True\n",
    "        n = 1\n",
    "\n",
    "        while cont == True:\n",
    "            # Iterate through n (increasing) until we find an n that satisfies (a - 1) % x = 0 and b % x = 0\n",
    "            expandPower = sympy.expand((1 + sympy.sqrt(7))**n).as_two_terms()\n",
    "            constant = expandPower[0]\n",
    "            surdCoeff = expandPower[1]/sympy.sqrt(7)\n",
    "\n",
    "            if ((constant - 1) % x) == 0:\n",
    "                # print(\"Requirement 1: Check. Constant value was {}.\".format(constant))\n",
    "                \n",
    "                if (surdCoeff % x) == 0:\n",
    "                    # print(\"Requirement 2: Check. Surd coefficient value was {}.\".format(surdCoeff))\n",
    "                    # print(\"x value: {} \\nn value: {} \\na value: {} \\nb value: {} \\nprevious sum: {} \\nnew sum: {}\".format(x, n, constant, surdCoeff, sum_num, sum_num + n))\n",
    "                    cont = False\n",
    "                    return n\n",
    "                    raise StopIteration\n",
    "                    \n",
    "            n += 1\n",
    "            \n",
    "            if n > 10**5:\n",
    "                raise ValueTooBigError\n",
    "            \n",
    "    except StopIteration:\n",
    "        # print(\"Requirments met! Current g(x) is {}\".format(n))\n",
    "        pass\n",
    "        \n",
    "    except ValueTooBigError:\n",
    "        n = 0\n",
    "        # print(\"Too many iterations occurred, set g(x) = 0.\")\n",
    "        pass\n",
    "        \n",
    "    return n\n",
    "\n",
    "# Create sum\n",
    "\n",
    "N = 10**2\n",
    "\n",
    "sum_num = 0\n",
    "\n",
    "for x in range(2,N+1):\n",
    "    sum_num += g(x)\n",
    "    \n",
    "print(\"Final value for G(N) is {}\".format(sum_num))"
   ]
  },
  {
   "cell_type": "code",
   "execution_count": null,
   "id": "41925532-72c5-48ce-ada1-220043a38cf3",
   "metadata": {},
   "outputs": [],
   "source": [
    "for n in range(2,13):\n",
    "    expandPower = sympy.expand((1 + sympy.sqrt(7))**n)\n",
    "    # constant = expandPower[0]\n",
    "    # surdCoeff = expandPower[1]\n",
    "    # print(constant, surdCoeff)\n",
    "    print(expandPower)"
   ]
  },
  {
   "cell_type": "markdown",
   "id": "0b7b3906-780f-4a9f-bdf9-290088df3d51",
   "metadata": {},
   "source": [
    "New approach:\n",
    "\n",
    "Generate array(?) with two columns and n rows. Each cell in a row contains either the constant or coefficient values. Generate this matrix once only, rather than each time function g(x) is called. Then simply extract relevant cells by looping through array for calculation."
   ]
  }
 ],
 "metadata": {
  "kernelspec": {
   "display_name": "Python 3",
   "language": "python",
   "name": "python3"
  },
  "language_info": {
   "codemirror_mode": {
    "name": "ipython",
    "version": 3
   },
   "file_extension": ".py",
   "mimetype": "text/x-python",
   "name": "python",
   "nbconvert_exporter": "python",
   "pygments_lexer": "ipython3",
   "version": "3.8.5"
  }
 },
 "nbformat": 4,
 "nbformat_minor": 5
}
