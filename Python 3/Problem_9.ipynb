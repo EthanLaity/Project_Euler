{
 "cells": [
  {
   "cell_type": "markdown",
   "id": "85554f8d-6489-42ea-9225-0b77aa20859c",
   "metadata": {},
   "source": [
    "# [Problem 9](https://projecteuler.net/problem=9)"
   ]
  },
  {
   "cell_type": "markdown",
   "id": "b3fdf649-0f51-488d-a55d-d1e951308b20",
   "metadata": {},
   "source": [
    "> A Pythagorean triplet is a set of three natural numbers, a < b < c, for which,\n",
    "> \n",
    "> <center> a<sup>2</sup> + b<sup>2</sup> = c<sup>2</sup> </center>\n",
    "> For example, 3<sup>2</sup> + 4<sup>2</sup> = 9 + 16 = 25 = 5<sup>2</sup>.\n",
    "> \n",
    "> There exists exactly one Pythagorean triplet for which a + b + c = 1000. <br>\n",
    "> Find the product abc."
   ]
  },
  {
   "cell_type": "code",
   "execution_count": 24,
   "id": "03f68a28-40a7-4d36-a349-42662b7436f7",
   "metadata": {},
   "outputs": [
    {
     "name": "stdout",
     "output_type": "stream",
     "text": [
      "The set of three natural numbers, representing a Pythagorean triplet, is {200, 375, 425}, where a = 200, b = 375, c = 425. The product is abc = 31875000.\n"
     ]
    }
   ],
   "source": [
    "def main():\n",
    "    try:\n",
    "        for c in range(3,998):\n",
    "            for b in range(2,c):\n",
    "                for a in range(1,b):\n",
    "                    while (a**2 + b**2 == c**2) and (a + b + c == 1000):\n",
    "                        raise StopIteration\n",
    "    except StopIteration:\n",
    "        print(\"The set of three natural numbers, representing a Pythagorean triplet, is {{{}, {}, {}}}, where a = {}, b = {}, c = {}. The product is abc = {}.\".format(a, b, c, a, b, c, a*b*c))\n",
    "        \n",
    "if __name__ == \"__main__\":\n",
    "    main()\n"
   ]
  }
 ],
 "metadata": {
  "kernelspec": {
   "display_name": "Python 3",
   "language": "python",
   "name": "python3"
  },
  "language_info": {
   "codemirror_mode": {
    "name": "ipython",
    "version": 3
   },
   "file_extension": ".py",
   "mimetype": "text/x-python",
   "name": "python",
   "nbconvert_exporter": "python",
   "pygments_lexer": "ipython3",
   "version": "3.8.5"
  }
 },
 "nbformat": 4,
 "nbformat_minor": 5
}
