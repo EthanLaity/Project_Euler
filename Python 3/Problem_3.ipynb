{
 "cells": [
  {
   "cell_type": "markdown",
   "id": "dc2ab9c5-fe54-4ba1-9432-3609d6a6eea4",
   "metadata": {},
   "source": [
    "# [Problem 3](https://projecteuler.net/problem=3)"
   ]
  },
  {
   "cell_type": "markdown",
   "id": "011c707d-2188-4e5d-a48c-e84b6fe466e4",
   "metadata": {},
   "source": [
    "> The prime factors of 13195 are 5, 7, 13 and 29.\n",
    "> \n",
    "> What is the largest prime factor of the number 600851475143?"
   ]
  },
  {
   "cell_type": "code",
   "execution_count": 38,
   "id": "92b28e79-beb1-4e81-8331-5e868d06d91a",
   "metadata": {},
   "outputs": [
    {
     "name": "stdout",
     "output_type": "stream",
     "text": [
      "As current divisor is 1, no division was attempted\n",
      "\n",
      "Current divisor is 71, which is a successful factor!\n",
      "71\n",
      "71 IS a prime! Keep searching! :)\n",
      "\n",
      "Current divisor is 839, which is a successful factor!\n",
      "839\n",
      "839 IS a prime! Keep searching! :)\n",
      "\n",
      "Current divisor is 1471, which is a successful factor!\n",
      "1471\n",
      "1471 IS a prime! Keep searching! :)\n",
      "\n",
      "Current divisor is 6857, which is a successful factor!\n",
      "6857\n",
      "6857 IS a prime! Keep searching! :)\n",
      "\n",
      "Current divisor is 59569, which is a successful factor!\n",
      "59569\n",
      "59569 is NOT a prime! Divisible by 71. Try again :)\n",
      "\n",
      "Current divisor is 104441, which is a successful factor!\n",
      "104441\n",
      "104441 is NOT a prime! Divisible by 71. Try again :)\n",
      "\n",
      "Current divisor is 486847, which is a successful factor!\n",
      "486847\n",
      "486847 is NOT a prime! Divisible by 71. Try again :)\n",
      "\n",
      "Current divisor is 775148, exiting operation as this is not a possible divisor\n",
      "\n",
      "The largest prime factor of the number 600851475143 is 6857.\n",
      "\n",
      "\n",
      "Wall time: 652 ms\n"
     ]
    }
   ],
   "source": [
    "%%time\n",
    "\n",
    "num = 600851475143\n",
    "max_it = num\n",
    "\n",
    "begin = 1\n",
    "\n",
    "new_factor = 0\n",
    "old_factor = 0\n",
    "\n",
    "while True:\n",
    "    for i in range(begin,max_it+1):\n",
    "        # print('Current divisor is {}'.format(i))\n",
    "        # print(\"Flag1\")\n",
    "        if i == 1:\n",
    "            print('As current divisor is {}, no division was attempted\\n'.format(i))\n",
    "            # print(\"Flag2\")\n",
    "            pass\n",
    "        elif begin > max_it+1:\n",
    "            print('Current divisor is {}, exiting operation as this is not a possible divisor\\n'.format(i))\n",
    "            # print(\"Flag3\")\n",
    "            break\n",
    "        elif (num % i) == 0:\n",
    "            print('Current divisor is {}, which is a successful factor!'.format(i))\n",
    "            # print(\"Flag4\")\n",
    "            print(i)\n",
    "            new_factor = i\n",
    "            for j in range(2,int(new_factor)-1):\n",
    "                if (new_factor % j) == 0:\n",
    "                    print(\"{} is NOT a prime! Divisible by {}. Try again :)\\n\".format(int(new_factor), j))\n",
    "                    break\n",
    "            else:\n",
    "                if new_factor > old_factor:\n",
    "                    old_factor = new_factor\n",
    "                    print(\"{} IS a prime! Keep searching! :)\\n\".format(old_factor))\n",
    "        else:\n",
    "            # print('Confirmation that current divisor is {}'.format(i))\n",
    "            # print(\"Flag5\")\n",
    "            max_it = num / i\n",
    "            max_it = round(max_it)\n",
    "            begin = i+1\n",
    "            # print('Since 600851475143 is not divisible by {}, then we will reduce the search ceiling to {} and restart our search at {} \\n'.format(i, max_it, begin))\n",
    "            # print(num)\n",
    "            # print(begin)\n",
    "    break\n",
    "    \n",
    "print(\"The largest prime factor of the number {} is {}.\\n\\n\".format(num, old_factor))"
   ]
  },
  {
   "cell_type": "code",
   "execution_count": 39,
   "id": "dc6f2fed-b58e-437c-86a4-0fbc007c1510",
   "metadata": {
    "tags": [
     "hide"
    ]
   },
   "outputs": [
    {
     "data": {
      "text/markdown": [
       "Therefore, the largest prime factor of the number 600851475143 is 6857."
      ],
      "text/plain": [
       "<IPython.core.display.Markdown object>"
      ]
     },
     "execution_count": 39,
     "metadata": {},
     "output_type": "execute_result"
    }
   ],
   "source": [
    "from IPython.display import Markdown as md\n",
    "# Create Markdown text from a code cell\n",
    "# Reference: https://data-dive.com/jupyterlab-markdown-cells-include-variables\n",
    "md(\"Therefore, the largest prime factor of the number {} is {}.\".format(num, old_factor))"
   ]
  }
 ],
 "metadata": {
  "kernelspec": {
   "display_name": "Python 3",
   "language": "python",
   "name": "python3"
  },
  "language_info": {
   "codemirror_mode": {
    "name": "ipython",
    "version": 3
   },
   "file_extension": ".py",
   "mimetype": "text/x-python",
   "name": "python",
   "nbconvert_exporter": "python",
   "pygments_lexer": "ipython3",
   "version": "3.8.5"
  }
 },
 "nbformat": 4,
 "nbformat_minor": 5
}
