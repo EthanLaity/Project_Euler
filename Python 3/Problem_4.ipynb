{
 "cells": [
  {
   "cell_type": "markdown",
   "id": "fade7ab0-5610-4da2-a675-a30a03a53152",
   "metadata": {},
   "source": [
    "# [Problem 4](https://projecteuler.net/problem=4)"
   ]
  },
  {
   "cell_type": "markdown",
   "id": "fc0e8595-8957-4634-b86d-c0e721c9694d",
   "metadata": {},
   "source": [
    "> A palindromic number reads the same both ways. The largest palindrome made from the product of two 2-digit numbers is 9009 = 91 × 99.\n",
    "> \n",
    "> Find the largest palindrome made from the product of two 3-digit numbers."
   ]
  },
  {
   "cell_type": "code",
   "execution_count": 11,
   "id": "714cfc09-d735-4965-b686-65a69ddb7b4c",
   "metadata": {},
   "outputs": [
    {
     "name": "stdout",
     "output_type": "stream",
     "text": [
      "The largest palindrome found is 906609.\n"
     ]
    }
   ],
   "source": [
    "pal = 0\n",
    "\n",
    "for i in range(999,99,-1):\n",
    "    for j in range(999,99,-1):\n",
    "        num = i * j\n",
    "        digits = len(str(num))\n",
    "        if (digits % 2) != 0:\n",
    "            # compare digit 1 to digit len(str(num)), 2 to digit len(str(num))-1\n",
    "            array = [None] * digits\n",
    "            k = digits - 1\n",
    "            while k >= 0:\n",
    "                array[k] = str(num)[k]\n",
    "                k -= 1\n",
    "            if digits == 1:\n",
    "                pass            \n",
    "            elif array[digits-1] == array[0]:\n",
    "                if digits == 3:\n",
    "                    pass\n",
    "                elif digits == 5:\n",
    "                    if array[digits-2] == array[1]:\n",
    "                        if num > pal:\n",
    "                            pal = num\n",
    "                            # print(\"New largest palindrome! {} is the largest palindrome found so far!\".format(pal))\n",
    "                        # print(\"Palindrome found! {} is a palindrome!\\n\".format(num))\n",
    "        else:\n",
    "            # compare digit 1 to digit len(str(num)), 2 to digit len(str(num))-1, 3 to digit len(str(num))-2\n",
    "            array = [None] * digits\n",
    "            k = digits - 1\n",
    "            while k >= 0:\n",
    "                array[k] = str(num)[k]\n",
    "                k -= 1\n",
    "            if digits == 2:\n",
    "                pass\n",
    "            elif array[digits-1] == array[0]:\n",
    "                if digits == 4:\n",
    "                    pass\n",
    "                elif digits == 6:\n",
    "                    if array[digits-2] == array[1]:\n",
    "                        if array[digits-3] == array[2]:\n",
    "                            if num > pal:\n",
    "                                pal = num\n",
    "                                # print(\"New largest palindrome! {} is the largest palindrome found so far!\".format(pal))\n",
    "                            # print(\"Palindrome found! {} is a palindrome!\\n\".format(num))\n",
    "                            \n",
    "print(\"The largest palindrome found is {}.\".format(pal))"
   ]
  },
  {
   "cell_type": "code",
   "execution_count": null,
   "id": "8844b779-cbd0-4058-81c8-1764fed86fd0",
   "metadata": {},
   "outputs": [],
   "source": []
  }
 ],
 "metadata": {
  "kernelspec": {
   "display_name": "Python 3",
   "language": "python",
   "name": "python3"
  },
  "language_info": {
   "codemirror_mode": {
    "name": "ipython",
    "version": 3
   },
   "file_extension": ".py",
   "mimetype": "text/x-python",
   "name": "python",
   "nbconvert_exporter": "python",
   "pygments_lexer": "ipython3",
   "version": "3.8.5"
  }
 },
 "nbformat": 4,
 "nbformat_minor": 5
}
