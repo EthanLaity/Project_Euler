{
 "cells": [
  {
   "cell_type": "markdown",
   "id": "84b684ac-dec2-43b1-951a-a0bc9df66091",
   "metadata": {},
   "source": [
    "# [Problem 7](https://projecteuler.net/problem=7)"
   ]
  },
  {
   "cell_type": "markdown",
   "id": "0f2b7b12-5d64-496f-a7d9-dcd87704f7ac",
   "metadata": {},
   "source": [
    "> By listing the first six prime numbers: 2, 3, 5, 7, 11, and 13, we can see that the 6th prime is 13.\n",
    "> \n",
    "> What is the 10 001st prime number?"
   ]
  },
  {
   "cell_type": "code",
   "execution_count": 32,
   "id": "7f93a5e9-58bb-4022-a46c-6c1133ef9104",
   "metadata": {},
   "outputs": [
    {
     "name": "stdout",
     "output_type": "stream",
     "text": [
      "The 10001th prime number is 104743.\n"
     ]
    }
   ],
   "source": [
    "target = 10001\n",
    "count = 1\n",
    "\n",
    "try:\n",
    "    for prime in range(2,1000000):\n",
    "        # print(prime)\n",
    "        # print(\"Flag 1\")\n",
    "        prime_test = 0\n",
    "        for num in range(1,prime):\n",
    "            # print(\"Flag 2\")\n",
    "            if num == 1:\n",
    "                # print(\"Flag 3\")\n",
    "                pass\n",
    "            elif (prime % num) == 0:\n",
    "                # print(\"Flag 4\")\n",
    "                break\n",
    "            else:\n",
    "                # print(\"Flag 5\")\n",
    "                prime_test += 1\n",
    "                if prime_test == (prime - 2):\n",
    "                    # print(\"Flag 6\")\n",
    "                    # print(\"Prime: {}, # of primes: {}.\".format(prime, count))\n",
    "                    count += 1\n",
    "                    if count == target:\n",
    "                        # print(\"Flag 7\")\n",
    "                        print(\"The {}th prime number is {}.\".format(target, prime))\n",
    "                        raise StopIteration\n",
    "except StopIteration:\n",
    "    pass"
   ]
  },
  {
   "cell_type": "markdown",
   "id": "25ddaa85-a2fd-4768-8818-e4e151d98687",
   "metadata": {},
   "source": [
    "The 10001th prime number is 104743."
   ]
  }
 ],
 "metadata": {
  "kernelspec": {
   "display_name": "Python 3",
   "language": "python",
   "name": "python3"
  },
  "language_info": {
   "codemirror_mode": {
    "name": "ipython",
    "version": 3
   },
   "file_extension": ".py",
   "mimetype": "text/x-python",
   "name": "python",
   "nbconvert_exporter": "python",
   "pygments_lexer": "ipython3",
   "version": "3.8.5"
  }
 },
 "nbformat": 4,
 "nbformat_minor": 5
}
