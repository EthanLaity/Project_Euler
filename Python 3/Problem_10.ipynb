{
 "cells": [
  {
   "cell_type": "markdown",
   "id": "3f49ca85-6a7d-4739-8a0a-ea21335f4019",
   "metadata": {},
   "source": [
    "# [Problem 10](https://projecteuler.net/problem=10)"
   ]
  },
  {
   "cell_type": "markdown",
   "id": "a1ecd042-211b-450f-8152-a9e2e41596dd",
   "metadata": {},
   "source": [
    "> The sum of the primes below 10 is 2 + 3 + 5 + 7 = 17.\n",
    "> \n",
    "> Find the sum of all the primes below two million."
   ]
  },
  {
   "cell_type": "code",
   "execution_count": 2,
   "id": "2d186dce-3c46-4598-b017-b38de8feb5b7",
   "metadata": {},
   "outputs": [
    {
     "name": "stdout",
     "output_type": "stream",
     "text": [
      "Collecting python-math\n",
      "  Downloading python_math-0.0.1-py3-none-any.whl (2.4 kB)\n",
      "Installing collected packages: python-math\n",
      "Successfully installed python-math-0.0.1\n"
     ]
    }
   ],
   "source": [
    "! pip install python-math"
   ]
  },
  {
   "cell_type": "code",
   "execution_count": 10,
   "id": "79aaf207-ec16-4bc4-bedb-97f140a646b4",
   "metadata": {},
   "outputs": [],
   "source": [
    "import math"
   ]
  },
  {
   "cell_type": "markdown",
   "id": "3075b781-df8a-4f8f-86a4-56d9b39a9a7b",
   "metadata": {},
   "source": [
    "By importing Python's math library we can utilise the square root function, rather than simply multiplying by 0.5 . This drastically reduces the time taken to execute the code."
   ]
  },
  {
   "cell_type": "code",
   "execution_count": 9,
   "id": "b4f0e536-b059-4768-ac90-7af023160deb",
   "metadata": {},
   "outputs": [
    {
     "name": "stdout",
     "output_type": "stream",
     "text": [
      "The sum of all the primes below 2000000 is 142913828922\n",
      "Wall time: 23.5 s\n"
     ]
    }
   ],
   "source": [
    "%%time\n",
    "\n",
    "def sumPrimes(maxPrime):\n",
    "    try:\n",
    "        sumPrime = 0\n",
    "        for x in range(2,maxPrime):\n",
    "            for y in range(2,int(math.sqrt(x))+1):\n",
    "                if (x % y == 0):\n",
    "                    break\n",
    "            else:\n",
    "                # print(x)\n",
    "                sumPrime += x\n",
    "        \n",
    "    except Exception as e:\n",
    "        print(type(e))\n",
    "        \n",
    "    return sumPrime\n",
    "        \n",
    "def main():\n",
    "    maxPrime = 2* 10**6\n",
    "    sumPrime = sumPrimes(maxPrime)\n",
    "    print(\"The sum of all the primes below {} is {}\".format(maxPrime, sumPrime))\n",
    "        \n",
    "if __name__ == \"__main__\":\n",
    "    main()\n",
    "\n",
    "    "
   ]
  },
  {
   "cell_type": "markdown",
   "id": "49f0ec38-e702-40bb-a2cc-160db18e87b3",
   "metadata": {},
   "source": [
    "## Deprecated Attempt"
   ]
  },
  {
   "cell_type": "markdown",
   "id": "690eb7bc-514e-4e34-915f-792c12100146",
   "metadata": {},
   "source": [
    "This method, while reducing the number of divisions attempted for each value of \"x\" by a factor of 2, is not computationally feasible within a reasonable timeframe."
   ]
  },
  {
   "cell_type": "code",
   "execution_count": null,
   "id": "76b58813-871e-4e5e-b983-22fd11877e1d",
   "metadata": {},
   "outputs": [],
   "source": [
    "# %%time\n",
    "\n",
    "# def sumPrimes(maxPrime):\n",
    "#     try:\n",
    "#         sumPrime = 0\n",
    "#         for x in range(2,maxPrime):\n",
    "#             for y in range(2,int(x/2)+1):\n",
    "#                 if (x % y == 0):\n",
    "#                     break\n",
    "#             else:\n",
    "#                 print(x)\n",
    "#                 sumPrime += x\n",
    "        \n",
    "#     except Exception as e:\n",
    "#         print(type(e))\n",
    "        \n",
    "#     return sumPrime\n",
    "        \n",
    "# def main():\n",
    "#     maxPrime = 2* 10**6\n",
    "#     sumPrime = sumPrimes(maxPrime)\n",
    "#     print(\"The sum of all the primes below {} is {}\".format(maxPrime, sumPrime))\n",
    "        \n",
    "# if __name__ == \"__main__\":\n",
    "#     main()\n",
    "\n",
    "    "
   ]
  }
 ],
 "metadata": {
  "kernelspec": {
   "display_name": "Python 3",
   "language": "python",
   "name": "python3"
  },
  "language_info": {
   "codemirror_mode": {
    "name": "ipython",
    "version": 3
   },
   "file_extension": ".py",
   "mimetype": "text/x-python",
   "name": "python",
   "nbconvert_exporter": "python",
   "pygments_lexer": "ipython3",
   "version": "3.8.5"
  }
 },
 "nbformat": 4,
 "nbformat_minor": 5
}
