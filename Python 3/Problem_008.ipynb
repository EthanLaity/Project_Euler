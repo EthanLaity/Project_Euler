{
 "cells": [
  {
   "cell_type": "markdown",
   "id": "60c1ce79-4f85-4edf-9a5f-140f94f05246",
   "metadata": {},
   "source": [
    "# [Problem 8](https://projecteuler.net/problem=8)"
   ]
  },
  {
   "cell_type": "markdown",
   "id": "48914f37-dc1d-4217-97b2-1d2aa35bb063",
   "metadata": {},
   "source": [
    "> The four adjacent digits in the 1000-digit number that have the greatest product are 9 × 9 × 8 × 9 = 5832.\n",
    "> \n",
    "> <center> 73167176531330624919225119674426574742355349194934 <br>\n",
    "> 96983520312774506326239578318016984801869478851843 <br>\n",
    "> 85861560789112949495459501737958331952853208805511 <br>\n",
    "> 12540698747158523863050715693290963295227443043557 <br>\n",
    "> 66896648950445244523161731856403098711121722383113 <br>\n",
    "> 62229893423380308135336276614282806444486645238749 <br>\n",
    "> 30358907296290491560440772390713810515859307960866 <br>\n",
    "> 70172427121883998797908792274921901699720888093776 <br>\n",
    "> 65727333001053367881220235421809751254540594752243 <br>\n",
    "> 52584907711670556013604839586446706324415722155397 <br>\n",
    "> 53697817977846174064955149290862569321978468622482 <br>\n",
    "> 83972241375657056057490261407972968652414535100474 <br>\n",
    "> 82166370484403199890008895243450658541227588666881 <br>\n",
    "> 16427171479924442928230863465674813919123162824586 <br>\n",
    "> 17866458359124566529476545682848912883142607690042 <br>\n",
    "> 24219022671055626321111109370544217506941658960408 <br>\n",
    "> 07198403850962455444362981230987879927244284909188 <br>\n",
    "> 84580156166097919133875499200524063689912560717606 <br>\n",
    "> 05886116467109405077541002256983155200055935729725 <br>\n",
    "> 71636269561882670428252483600823257530420752963450 <br> </center>\n",
    "> <br>\n",
    "> Find the thirteen adjacent digits in the 1000-digit number that have the greatest product. What is the value of this product?"
   ]
  },
  {
   "cell_type": "code",
   "execution_count": 57,
   "id": "cc5f40c2-0b06-46c2-b850-be1a6c6206f5",
   "metadata": {},
   "outputs": [
    {
     "name": "stdout",
     "output_type": "stream",
     "text": [
      "Digit 1 which is 7\n",
      "Digit 17 which is 4\n",
      "Digit 20 which is 9\n",
      "Digit 22 which is 2\n",
      "Digit 23 which is 5\n",
      "Digit 24 which is 1\n",
      "Digit 25 which is 1\n",
      "Digit 26 which is 9\n",
      "Digit 41 which is 5\n",
      "Digit 42 which is 3\n",
      "Digit 44 which is 9\n",
      "Digit 89 which is 8\n",
      "Digit 196 which is 4\n",
      "Digit 197 which is 3\n",
      "Digit 198 which is 5\n"
     ]
    },
    {
     "data": {
      "text/plain": [
       "23514624000"
      ]
     },
     "execution_count": 57,
     "metadata": {},
     "output_type": "execute_result"
    }
   ],
   "source": [
    "num = 7316717653133062491922511967442657474235534919493496983520312774506326239578318016984801869478851843858615607891129494954595017379583319528532088055111254069874715852386305071569329096329522744304355766896648950445244523161731856403098711121722383113622298934233803081353362766142828064444866452387493035890729629049156044077239071381051585930796086670172427121883998797908792274921901699720888093776657273330010533678812202354218097512545405947522435258490771167055601360483958644670632441572215539753697817977846174064955149290862569321978468622482839722413756570560574902614079729686524145351004748216637048440319989000889524345065854122758866688116427171479924442928230863465674813919123162824586178664583591245665294765456828489128831426076900422421902267105562632111110937054421750694165896040807198403850962455444362981230987879927244284909188845801561660979191338754992005240636899125607176060588611646710940507754100225698315520005593572972571636269561882670428252483600823257530420752963450\n",
    "\n",
    "lst = []\n",
    "\n",
    "product = 0\n",
    "new_product = 0\n",
    "count = 0\n",
    "\n",
    "for digit in str(num):\n",
    "    lst.extend(digit)\n",
    "    \n",
    "# List comprehension\n",
    "lst = [int(x) for x in lst]\n",
    "    \n",
    "while count < len(str(num))-13+1:\n",
    "    new_product = lst[count] * lst[count+1] * lst[count+2] * lst[count+3] * lst[count+4] * lst[count+5] * lst[count+6] * lst[count+7] * lst[count+8] * lst[count+9] * lst[count+10] * lst[count+11] * lst[count+12]\n",
    "    if new_product > product:\n",
    "        product = new_product\n",
    "        # print(\"Digit {} which is {}\".format(count+1, lst[count]))\n",
    "        \n",
    "    count += 1\n",
    "    \n",
    "product\n"
   ]
  },
  {
   "cell_type": "markdown",
   "id": "8fabef67-ebb1-4235-891a-d014e52e3705",
   "metadata": {},
   "source": [
    "## Modularise Process"
   ]
  },
  {
   "cell_type": "markdown",
   "id": "02c669b2-3ca4-4292-be7c-4dd8d308367d",
   "metadata": {},
   "source": [
    "This was my first ever attempt at making my code more Pythonic in [structure](https://docs.python-guide.org/writing/structure/) and [style](https://peps.python.org/pep-0008/). In my novice opinion, this went well! The code is clear and, more importantly, it works!"
   ]
  },
  {
   "cell_type": "code",
   "execution_count": 59,
   "id": "829167e3-91f4-4816-9f3c-7ea1909ab172",
   "metadata": {},
   "outputs": [
    {
     "name": "stdout",
     "output_type": "stream",
     "text": [
      "23514624000\n"
     ]
    }
   ],
   "source": [
    "def setup():\n",
    "    num = 7316717653133062491922511967442657474235534919493496983520312774506326239578318016984801869478851843858615607891129494954595017379583319528532088055111254069874715852386305071569329096329522744304355766896648950445244523161731856403098711121722383113622298934233803081353362766142828064444866452387493035890729629049156044077239071381051585930796086670172427121883998797908792274921901699720888093776657273330010533678812202354218097512545405947522435258490771167055601360483958644670632441572215539753697817977846174064955149290862569321978468622482839722413756570560574902614079729686524145351004748216637048440319989000889524345065854122758866688116427171479924442928230863465674813919123162824586178664583591245665294765456828489128831426076900422421902267105562632111110937054421750694165896040807198403850962455444362981230987879927244284909188845801561660979191338754992005240636899125607176060588611646710940507754100225698315520005593572972571636269561882670428252483600823257530420752963450\n",
    "    lst = []\n",
    "    product = 0\n",
    "    new_product = 0\n",
    "    count = 0\n",
    "    numDigits2Prod = 13\n",
    "    return num, lst, product, new_product, count, numDigits2Prod\n",
    "\n",
    "def separate(num, lst):\n",
    "    for digit in str(num):\n",
    "        lst.extend(digit)\n",
    "    return lst\n",
    "\n",
    "def convertInt(lst):\n",
    "    lst = [int(x) for x in lst]\n",
    "    return lst\n",
    "\n",
    "def repeatProd(lst, count, numDigits2Prod):\n",
    "    prod = 1\n",
    "    for x in range(numDigits2Prod):\n",
    "        prod *= lst[count+x]\n",
    "    return prod\n",
    "        \n",
    "def compute(num, lst, product, new_product, count, numDigits2Prod):\n",
    "    while count < len(str(num))-numDigits2Prod+1:\n",
    "        new_product = repeatProd(lst, count, numDigits2Prod)\n",
    "        if new_product > product:\n",
    "            product = new_product\n",
    "        count += 1\n",
    "    return product\n",
    "\n",
    "def run():\n",
    "    num, lst, product, new_product, count, numDigits2Prod = setup()\n",
    "    lst = separate(num, lst)\n",
    "    lst = convertInt(lst)\n",
    "    print(compute(num, lst, product, new_product, count, numDigits2Prod))\n",
    "    return ;\n",
    "\n",
    "run()\n",
    "\n",
    "\n",
    "\n",
    "\n",
    "\n",
    "\n",
    "\n",
    "\n",
    "\n",
    "\n",
    "\n",
    "\n"
   ]
  }
 ],
 "metadata": {
  "kernelspec": {
   "display_name": "Python 3",
   "language": "python",
   "name": "python3"
  },
  "language_info": {
   "codemirror_mode": {
    "name": "ipython",
    "version": 3
   },
   "file_extension": ".py",
   "mimetype": "text/x-python",
   "name": "python",
   "nbconvert_exporter": "python",
   "pygments_lexer": "ipython3",
   "version": "3.8.5"
  }
 },
 "nbformat": 4,
 "nbformat_minor": 5
}
