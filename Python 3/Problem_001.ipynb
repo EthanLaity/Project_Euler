{
 "cells": [
  {
   "cell_type": "markdown",
   "id": "77e4da39-03ed-446f-ad42-48351cfc0df5",
   "metadata": {},
   "source": [
    "# [Problem 1](https://projecteuler.net/problem=1)"
   ]
  },
  {
   "cell_type": "markdown",
   "id": "5428400d-fd0e-411b-912f-5add993f75c5",
   "metadata": {
    "jupyter": {
     "source_hidden": true
    },
    "tags": []
   },
   "source": [
    "> If we list all the natural numbers below 10 that are multiples of 3 or 5, we get 3, 5, 6 and 9. The sum of these multiples is 23.\n",
    "> \n",
    "> Find the sum of all the multiples of 3 or 5 below 1000."
   ]
  },
  {
   "cell_type": "code",
   "execution_count": 27,
   "id": "49a6eac9-aeef-4852-927f-f48e52cf2e3f",
   "metadata": {},
   "outputs": [
    {
     "data": {
      "text/plain": [
       "233168"
      ]
     },
     "execution_count": 27,
     "metadata": {},
     "output_type": "execute_result"
    }
   ],
   "source": [
    "num_sum = 0\n",
    "\n",
    "for i in range(999):\n",
    "    if (i+1) % 3 == 0 or (i+1) % 5 == 0:\n",
    "        num_sum += i+1\n",
    "        \n",
    "num_sum"
   ]
  },
  {
   "cell_type": "code",
   "execution_count": 29,
   "id": "04a319a0-ace3-43c8-8d4c-f3d4b9a17ce2",
   "metadata": {
    "tags": [
     "hide"
    ]
   },
   "outputs": [
    {
     "data": {
      "text/markdown": [
       "The sum of all the multiples of 3 or 5 below 1000 is 233168."
      ],
      "text/plain": [
       "<IPython.core.display.Markdown object>"
      ]
     },
     "execution_count": 29,
     "metadata": {},
     "output_type": "execute_result"
    }
   ],
   "source": [
    "from IPython.display import Markdown as md\n",
    "# Create Markdown text from a code cell\n",
    "# Reference: https://data-dive.com/jupyterlab-markdown-cells-include-variables\n",
    "md(f\"The sum of all the multiples of 3 or 5 below 1000 is therefore {num_sum}.\")"
   ]
  },
  {
   "cell_type": "code",
   "execution_count": null,
   "id": "8ae87ce9-ae7f-4c81-82ad-f2d381a9a69f",
   "metadata": {},
   "outputs": [],
   "source": []
  }
 ],
 "metadata": {
  "kernelspec": {
   "display_name": "Python 3",
   "language": "python",
   "name": "python3"
  },
  "language_info": {
   "codemirror_mode": {
    "name": "ipython",
    "version": 3
   },
   "file_extension": ".py",
   "mimetype": "text/x-python",
   "name": "python",
   "nbconvert_exporter": "python",
   "pygments_lexer": "ipython3",
   "version": "3.8.5"
  }
 },
 "nbformat": 4,
 "nbformat_minor": 5
}
