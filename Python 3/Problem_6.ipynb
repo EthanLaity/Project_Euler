{
 "cells": [
  {
   "cell_type": "markdown",
   "id": "a796a7c9-bb39-4549-9934-9b3058991327",
   "metadata": {},
   "source": [
    "# [Problem 6](https://projecteuler.net/problem=6)"
   ]
  },
  {
   "cell_type": "markdown",
   "id": "b9b1805f-5add-4621-8b04-ecfe533e661c",
   "metadata": {},
   "source": [
    "> The sum of the squares of the first ten natural numbers is,\n",
    "> <center> 1<sup>2</sup> + 2<sup>2</sup> + . . . + 10<sup>2</sup> = 385 </center>\n",
    "> The square of the sum of the first ten natural numbers is,\n",
    "> <center> (1 + 2 + . . . + 10)<sup>2</sup> = 55<sup>2</sup> = 3025 </center>\n",
    "> Hence the difference between the sum of the squares of the first ten natural numbers and the square of the sum is,\n",
    "> <center> 3025 - 385 = 2640 </center>\n",
    "> Find the difference between the sum of the squares of the first one hundred natural numbers and the square of the sum."
   ]
  },
  {
   "cell_type": "code",
   "execution_count": 17,
   "id": "4395fa5c-8ee2-4d0c-96d3-7b12cca172b9",
   "metadata": {},
   "outputs": [
    {
     "name": "stdout",
     "output_type": "stream",
     "text": [
      "Therefore, the difference between the sum of the squares of the first one hundred natural numbers and the square of the sum is 25164150\n"
     ]
    }
   ],
   "source": [
    "# Consider first \"x\" natural numbers\n",
    "x = 100\n",
    "\n",
    "# Calculate square of sum\n",
    "sq_of_sum = (sum(range(1,x+1)))**2\n",
    "\n",
    "# Calculate sum of squares\n",
    "sum_of_sq = 0\n",
    "for i in range(1,x+1):\n",
    "    sum_of_sq += i**2\n",
    "    \n",
    "# Find difference\n",
    "soln = sq_of_sum - sum_of_sq\n",
    "\n",
    "print(\"Therefore, the difference between the sum of the squares of the first one hundred natural numbers and the square of the sum is {}\".format(soln))"
   ]
  }
 ],
 "metadata": {
  "kernelspec": {
   "display_name": "Python 3",
   "language": "python",
   "name": "python3"
  },
  "language_info": {
   "codemirror_mode": {
    "name": "ipython",
    "version": 3
   },
   "file_extension": ".py",
   "mimetype": "text/x-python",
   "name": "python",
   "nbconvert_exporter": "python",
   "pygments_lexer": "ipython3",
   "version": "3.8.5"
  }
 },
 "nbformat": 4,
 "nbformat_minor": 5
}
