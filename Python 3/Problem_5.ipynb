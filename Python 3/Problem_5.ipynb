{
 "cells": [
  {
   "cell_type": "markdown",
   "id": "d08266a8-c233-4df1-a5aa-743242879ed8",
   "metadata": {},
   "source": [
    "# [Problem 5](https://projecteuler.net/problem=5)"
   ]
  },
  {
   "cell_type": "markdown",
   "id": "ab3f99ae-789d-42be-ae2c-3a0f845531d1",
   "metadata": {},
   "source": [
    "> 2520 is the smallest number that can be divided by each of the numbers from 1 to 10 without any remainder.\n",
    "> \n",
    "> What is the smallest positive number that is evenly divisible by all of the numbers from 1 to 20?"
   ]
  },
  {
   "cell_type": "code",
   "execution_count": 11,
   "id": "cfd66627-c173-4109-b0f8-55bec6b5d84f",
   "metadata": {},
   "outputs": [
    {
     "name": "stdout",
     "output_type": "stream",
     "text": [
      "Therefore, the smallest positive number that is evenly divisible by all of the numbers from 1 to 20 is 252191940.\n"
     ]
    }
   ],
   "source": [
    "max_number = 20\n",
    "smallest_combo = 20*19*17*13*11*7*3\n",
    "i = smallest_combo\n",
    "count = 0\n",
    "seq = []\n",
    "\n",
    "while count < max_number:\n",
    "    for x in range(1,max_number+1):\n",
    "        if (i % x) == 0:\n",
    "            # print(\"{} is divisible by {}\".format(i, x))\n",
    "            count += 1\n",
    "            pass\n",
    "        else:\n",
    "            count = 0\n",
    "            break\n",
    "    i += smallest_combo\n",
    "    \n",
    "print(\"Therefore, the smallest positive number that is evenly divisible by all of the numbers from 1 to 20 is {}.\".format(i))"
   ]
  },
  {
   "cell_type": "code",
   "execution_count": null,
   "id": "8d84cbc8-84b9-4f1a-9d33-4cdced622504",
   "metadata": {},
   "outputs": [],
   "source": []
  }
 ],
 "metadata": {
  "kernelspec": {
   "display_name": "Python 3",
   "language": "python",
   "name": "python3"
  },
  "language_info": {
   "codemirror_mode": {
    "name": "ipython",
    "version": 3
   },
   "file_extension": ".py",
   "mimetype": "text/x-python",
   "name": "python",
   "nbconvert_exporter": "python",
   "pygments_lexer": "ipython3",
   "version": "3.8.5"
  }
 },
 "nbformat": 4,
 "nbformat_minor": 5
}
